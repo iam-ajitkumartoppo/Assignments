{
 "cells": [
  {
   "cell_type": "markdown",
   "id": "4ed034e7",
   "metadata": {},
   "source": [
    "# 29th January Assignment(Python Basics)"
   ]
  },
  {
   "cell_type": "markdown",
   "id": "e7bd9982",
   "metadata": {},
   "source": [
    "<B>1. Who developed Python Programming Language? "
   ]
  },
  {
   "cell_type": "markdown",
   "id": "205d43ff",
   "metadata": {},
   "source": [
    "Ans- Python programming language was developed by <B>Guido van Rossum."
   ]
  },
  {
   "cell_type": "markdown",
   "id": "c3bb011c",
   "metadata": {},
   "source": [
    "<b>2. Which type of Programming does Python support"
   ]
  },
  {
   "cell_type": "markdown",
   "id": "20c39196",
   "metadata": {},
   "source": [
    "Ans- Python supports multiple programming paradigms, including:\n",
    ">Object-Oriented Programming(OOP)<br>\n",
    "Structured Programming<br>\n",
    "Functional Programming<br>\n",
    "Aspect-Oriented Programming<br>\n",
    "Procedural Programming<br>\n",
    "Reflective Programming<br>\n",
    "Imperative Programming<br>"
   ]
  },
  {
   "cell_type": "markdown",
   "id": "94bb3971",
   "metadata": {},
   "source": [
    "<B>3. Is Python case sensitive when dealing with identifiers? "
   ]
  },
  {
   "cell_type": "markdown",
   "id": "bcddf640",
   "metadata": {},
   "source": [
    "Ans-Yes, Python is case sensitive when dealing with identifiers."
   ]
  },
  {
   "cell_type": "markdown",
   "id": "c2f22a9b",
   "metadata": {},
   "source": [
    "<B>4.What is the correct extension of the Python file?"
   ]
  },
  {
   "cell_type": "markdown",
   "id": "9b4dd161",
   "metadata": {},
   "source": [
    "Ans- The correct extension of the Python file is <B>'.py'"
   ]
  },
  {
   "cell_type": "markdown",
   "id": "de8541a5",
   "metadata": {},
   "source": [
    "<B> 5. Is Python code compiled or interpreted? "
   ]
  },
  {
   "cell_type": "markdown",
   "id": "17c88f78",
   "metadata": {},
   "source": [
    "Ans- Python code is interpreted, not compiled."
   ]
  },
  {
   "cell_type": "markdown",
   "id": "28349d6b",
   "metadata": {},
   "source": [
    "<B>6. Name a few blocks of code used to define in Python language? "
   ]
  },
  {
   "cell_type": "markdown",
   "id": "ca3be78d",
   "metadata": {},
   "source": [
    "Ans- In Python, code blocka are defined using indentation. Few most common blocks are:\n",
    ">Functions, Loops, Conditional statements, Classes etc."
   ]
  },
  {
   "cell_type": "markdown",
   "id": "dad27dbf",
   "metadata": {},
   "source": [
    "<B>7.State a character used to give single-line comments in Python?"
   ]
  },
  {
   "cell_type": "markdown",
   "id": "24476921",
   "metadata": {},
   "source": [
    "Ans- In Python the hash symbol \"#\" is used for writing single line comments."
   ]
  },
  {
   "cell_type": "markdown",
   "id": "b51b513d",
   "metadata": {},
   "source": [
    "<B>8. Mention functions which can help us to find the version of python that we are currently working on? \n"
   ]
  },
  {
   "cell_type": "markdown",
   "id": "6483684c",
   "metadata": {},
   "source": [
    "Ans- The function that can help us to find the verssion of python we are currebtly working on is sys.version."
   ]
  },
  {
   "cell_type": "code",
   "execution_count": 2,
   "id": "f9a51b33",
   "metadata": {},
   "outputs": [
    {
     "name": "stdout",
     "output_type": "stream",
     "text": [
      "3.9.7 (default, Sep 16 2021, 16:59:28) [MSC v.1916 64 bit (AMD64)]\n"
     ]
    }
   ],
   "source": [
    "#to print the version of python that is currently installed on the system\n",
    "import sys\n",
    "print(sys.version)"
   ]
  },
  {
   "cell_type": "markdown",
   "id": "3dadcdd3",
   "metadata": {},
   "source": [
    "<B>9. Python supports the creation of anonymous functions at runtime, using a construct called _____"
   ]
  },
  {
   "cell_type": "markdown",
   "id": "b02624a5",
   "metadata": {},
   "source": [
    "Ans- lambda function"
   ]
  },
  {
   "cell_type": "markdown",
   "id": "36539819",
   "metadata": {},
   "source": [
    "<B>10. What does pip stand for python? "
   ]
  },
  {
   "cell_type": "markdown",
   "id": "e12a534c",
   "metadata": {},
   "source": [
    "Ans- pip is a recursive acronym for “Preferred Installer Program” or PIP Installs Packages. It is a \n",
    "pakage manager for python that allows to easily install, upgrade, and manage third-party libraries and modules."
   ]
  },
  {
   "cell_type": "markdown",
   "id": "ab41ae3d",
   "metadata": {},
   "source": [
    "<B>11. Mention a few built-in functions in python? "
   ]
  },
  {
   "cell_type": "markdown",
   "id": "d40ad2cb",
   "metadata": {},
   "source": [
    "Ans- Few examples of built-in functionss in python are\n",
    ">print() - prints output to the console<br>\n",
    "len() - returns the length of an object<br>\n",
    "type() - returns the type of an object<br>\n",
    "input() - reads the input from the user<br>\n",
    "min() - returns the smallest value in a sequence<br>\n",
    "max() - returns the largest value in a sequence<br>\n",
    "sum() - returns the sum of all values in a sequence<br>\n",
    "abs() - returns the absolute value of a number<br>\n",
    "round() - rounds a number to a specified number of decimal places<br>"
   ]
  },
  {
   "cell_type": "markdown",
   "id": "7fad9765",
   "metadata": {},
   "source": [
    "<B>12. What is the maximum possible length of an identifier in Python? "
   ]
  },
  {
   "cell_type": "markdown",
   "id": "673d20bb",
   "metadata": {},
   "source": [
    "Ans- Maximum possible length of an identifier is implementation-dependent. According to Python language reference \"The maximum number of ann identifier is currently 79 characters for CPython implementation.\" However other implementations of python have different limits."
   ]
  },
  {
   "cell_type": "markdown",
   "id": "26cee642",
   "metadata": {},
   "source": [
    "<B>13. What are the benefits of using Python? "
   ]
  },
  {
   "cell_type": "markdown",
   "id": "20adb3c6",
   "metadata": {},
   "source": [
    "Ans- Python has many benefits, few of them are:\n",
    "><U>Readability </U>- easy to read and write with a simple and constitent syntax.<br><br>\n",
    "<u>Large standard library</u> - has large standard libraries that includes many  useful modules and functions so thatwe dont have to write code from scratch. <br><br>\n",
    "<u>Third-party libraries</u> - has a rich ecosystem of third party libraries and modules that can be easily installed and used to extend the capabilities of the language.<br><br>\n",
    "<u>cross-platform compatibility</u> - available on many different platforms including windows, macOS, Linux and more.<br><br>\n",
    "<u>Rapid prototyping and development</u> - pythons ease of use and high level abstraction make it ideal language for rapid protyping and development of applications.<br><br>\n",
    "<u>Data science and machine learning</u> - It has become a preferred choice due to the availability of powerful libraries like numpy, pandas and scikit-learn.<br><br>\n",
    "<u>community support</u> - has large and active community of developers , which enables many resources available for learning and troubleshooting.<br>"
   ]
  },
  {
   "cell_type": "markdown",
   "id": "7d28f023",
   "metadata": {},
   "source": [
    "<B>14. How is memory managed in Python? "
   ]
  },
  {
   "cell_type": "markdown",
   "id": "37dc810a",
   "metadata": {},
   "source": [
    "Ans- Python has a private heap that stores our program's objects and data structures. Python memory is managed automatically using a combination of reference counting and a garbage collector. Reference counting tracks the the number of reference to an object and deletes the object when the number of references becomes zero. The garbage collector runs periodically to identify and delete objects that are no longer being used. "
   ]
  },
  {
   "cell_type": "markdown",
   "id": "63f4c708",
   "metadata": {},
   "source": [
    "<B>15. How to install Python on Windows and set path variables? "
   ]
  },
  {
   "cell_type": "markdown",
   "id": "4e9bebe8",
   "metadata": {},
   "source": [
    "Ans- To install Python on Windows:\n",
    "\n",
    "1. Go to the official Python website (https://www.python.org/downloads/) and download the latest version of Python for Windows.\n",
    "2. Run the Python installation file and follow the on-screen instructions. Make sure to select the option to add Python to your PATH environment variable.\n",
    "\n",
    "To set the PATH environment variable:\n",
    "\n",
    "1. Right-click on the Windows Start button and select \"System\" or search for \"Environment Variables\" in the Windows search bar.\n",
    "2. Click on \"Environment Variables.\"\n",
    "3. Under \"System Variables,\" scroll down and find the \"Path\" variable, then click on \"Edit.\"\n",
    "4. Click on \"New\" and add the path to the Python installation (e.g., \"C:\\Python36\").\n",
    "5. Click \"OK\" to close all windows and save the changes.\n",
    "\n",
    "Now we can open a Command Prompt window and run Python from any location on your computer."
   ]
  },
  {
   "cell_type": "markdown",
   "id": "f9864e14",
   "metadata": {},
   "source": [
    "<B>16. Is indentation required in python? "
   ]
  },
  {
   "cell_type": "markdown",
   "id": "41826fdc",
   "metadata": {},
   "source": [
    "Ans- Yes, indentation is required in python. It is fundamental part of the syntax of the language, and is used to indicate the structure of code block, such as functions, loops and conditional statement."
   ]
  }
 ],
 "metadata": {
  "kernelspec": {
   "display_name": "Python 3 (ipykernel)",
   "language": "python",
   "name": "python3"
  },
  "language_info": {
   "codemirror_mode": {
    "name": "ipython",
    "version": 3
   },
   "file_extension": ".py",
   "mimetype": "text/x-python",
   "name": "python",
   "nbconvert_exporter": "python",
   "pygments_lexer": "ipython3",
   "version": "3.9.7"
  }
 },
 "nbformat": 4,
 "nbformat_minor": 5
}
